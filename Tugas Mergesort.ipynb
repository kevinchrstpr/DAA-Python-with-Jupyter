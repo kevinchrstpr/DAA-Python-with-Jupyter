{
 "cells": [
  {
   "cell_type": "code",
   "execution_count": 7,
   "metadata": {},
   "outputs": [],
   "source": [
    "#Tugas Mergesort Divide and Conquer\n",
    "\n",
    "def merge(arr, l, m, r): \n",
    "    k1 = m - l + 1\n",
    "    k2 = r- m \n",
    "   \n",
    "    L = [0] * (k1) \n",
    "    R = [0] * (k2) \n",
    "  \n",
    "    for i in range(0 , k1): \n",
    "        L[i] = arr[l + i] \n",
    "  \n",
    "    for j in range(0 , k2): \n",
    "        R[j] = arr[m + 1 + j] \n",
    "   \n",
    "    i = 0 \n",
    "    j = 0 \n",
    "    k = l \n",
    "  \n",
    "    while i < k1 and j < k2 : \n",
    "        if L[i] <= R[j]: \n",
    "            arr[k] = L[i] \n",
    "            i += 1\n",
    "        else: \n",
    "            arr[k] = R[j] \n",
    "            j += 1\n",
    "        k += 1\n",
    "   \n",
    "    while i < k1: \n",
    "        arr[k] = L[i] \n",
    "        i += 1\n",
    "        k += 1\n",
    "   \n",
    "    while j < k2: \n",
    "        arr[k] = R[j] \n",
    "        j += 1\n",
    "        k += 1"
   ]
  },
  {
   "cell_type": "code",
   "execution_count": 8,
   "metadata": {},
   "outputs": [],
   "source": [
    "def mergeSort(arr,l,r): \n",
    "    if l < r: \n",
    "        \n",
    "        m = (l+(r-1))//2\n",
    "   \n",
    "        mergeSort(arr, l, m) \n",
    "        mergeSort(arr, m+1, r) \n",
    "        merge(arr, l, m, r)"
   ]
  },
  {
   "cell_type": "code",
   "execution_count": 9,
   "metadata": {},
   "outputs": [
    {
     "name": "stdout",
     "output_type": "stream",
     "text": [
      "Array yang akan di mergesort : \n",
      "21\n",
      "5\n",
      "9\n",
      "16\n",
      "30\n",
      "7\n",
      "\n",
      "\n",
      "Array setelah di mergesort : \n",
      "5\n",
      "7\n",
      "9\n",
      "16\n",
      "21\n",
      "30\n"
     ]
    }
   ],
   "source": [
    "arr = [21, 5, 9, 16, 30, 7] \n",
    "n = len(arr) \n",
    "print (f\"Array yang akan di mergesort : \") \n",
    "for i in range(n): \n",
    "    print (\"%d\" %arr[i]), \n",
    "  \n",
    "mergeSort(arr,0,n-1) \n",
    "print (f\"\\n\\nArray setelah di mergesort : \") \n",
    "for i in range(n): \n",
    "    print (\"%d\" %arr[i]),"
   ]
  },
  {
   "cell_type": "code",
   "execution_count": null,
   "metadata": {},
   "outputs": [],
   "source": []
  }
 ],
 "metadata": {
  "kernelspec": {
   "display_name": "Python 3",
   "language": "python",
   "name": "python3"
  },
  "language_info": {
   "codemirror_mode": {
    "name": "ipython",
    "version": 3
   },
   "file_extension": ".py",
   "mimetype": "text/x-python",
   "name": "python",
   "nbconvert_exporter": "python",
   "pygments_lexer": "ipython3",
   "version": "3.8.3"
  }
 },
 "nbformat": 4,
 "nbformat_minor": 4
}
